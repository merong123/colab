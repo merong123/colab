{
  "nbformat": 4,
  "nbformat_minor": 0,
  "metadata": {
    "colab": {
      "name": "myFirstPython.ipynb",
      "provenance": [],
      "authorship_tag": "ABX9TyO4tmOXlNIPeveCrAmiBHXh",
      "include_colab_link": true
    },
    "kernelspec": {
      "name": "python3",
      "display_name": "Python 3"
    },
    "language_info": {
      "name": "python"
    }
  },
  "cells": [
    {
      "cell_type": "markdown",
      "metadata": {
        "id": "view-in-github",
        "colab_type": "text"
      },
      "source": [
        "<a href=\"https://colab.research.google.com/github/merong123/colab/blob/main/myFirstPython.ipynb\" target=\"_parent\"><img src=\"https://colab.research.google.com/assets/colab-badge.svg\" alt=\"Open In Colab\"/></a>"
      ]
    },
    {
      "cell_type": "markdown",
      "source": [
        "나의 첫 파이썬 프로그래밍"
      ],
      "metadata": {
        "id": "IXRmKDjwPPsJ"
      }
    },
    {
      "cell_type": "code",
      "source": [
        "print(\"안녕~ 파이썬!!\")"
      ],
      "metadata": {
        "colab": {
          "base_uri": "https://localhost:8080/"
        },
        "id": "966IypFcPRwR",
        "outputId": "7e9a2ab2-3e6e-4e53-e089-b1e44d2b248b"
      },
      "execution_count": 1,
      "outputs": [
        {
          "output_type": "stream",
          "name": "stdout",
          "text": [
            "안녕~ 파이썬!!\n"
          ]
        }
      ]
    },
    {
      "cell_type": "code",
      "source": [
        "print(\"컴퓨터가 3학년 2반 박한중\")"
      ],
      "metadata": {
        "colab": {
          "base_uri": "https://localhost:8080/"
        },
        "id": "0b-VU2gBPbIw",
        "outputId": "49e661b9-2ca1-4bf9-d444-6c7d16cbb9e4"
      },
      "execution_count": 2,
      "outputs": [
        {
          "output_type": "stream",
          "name": "stdout",
          "text": [
            "컴퓨터가 3학년 2반 박한중\n"
          ]
        }
      ]
    }
  ]
}